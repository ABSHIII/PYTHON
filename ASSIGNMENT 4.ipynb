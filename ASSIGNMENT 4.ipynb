{
 "cells": [
  {
   "cell_type": "code",
   "execution_count": 10,
   "id": "9ead1d6f-8f1d-457f-812f-97c626b7d2e4",
   "metadata": {},
   "outputs": [],
   "source": [
    "#1\n",
    "def custom_function(a, b=10, c=None):\n",
    "    if c is None:\n",
    "        print(f\"Sum: {a + b}\")\n",
    "    else:\n",
    "        print(f\"Product: {a * b * c}\")"
   ]
  },
  {
   "cell_type": "code",
   "execution_count": 11,
   "id": "d86cdffc-1f52-417a-a2e2-ebb295ee930f",
   "metadata": {},
   "outputs": [],
   "source": [
    "#2\n",
    "def filter_strings(strings):\n",
    "    return list(filter(lambda s: len(s) >= 5, strings))"
   ]
  },
  {
   "cell_type": "code",
   "execution_count": 4,
   "id": "d905bf9e-ecd0-4834-a52b-14ad774501fb",
   "metadata": {},
   "outputs": [
    {
     "name": "stdout",
     "output_type": "stream",
     "text": [
      "Result of expression '3 * 5 + 2': 17\n"
     ]
    }
   ],
   "source": [
    "#3\n",
    "expression = \"3 * 5 + 2\"\n",
    "result = eval(expression)\n",
    "print(f\"Result of expression '{expression}': {result}\")\n"
   ]
  },
  {
   "cell_type": "code",
   "execution_count": 7,
   "id": "3b52fb2e-2e02-4ef9-a8f4-4ed097955550",
   "metadata": {},
   "outputs": [
    {
     "name": "stdout",
     "output_type": "stream",
     "text": [
      "Prime numbers: [2, 3, 5, 7]\n"
     ]
    }
   ],
   "source": [
    "#4\n",
    "def is_prime(n):\n",
    "    if n < 2:\n",
    "        return False\n",
    "    for i in range(2, int(n ** 0.5) + 1):\n",
    "        if n % i == 0:\n",
    "            return False\n",
    "    return True\n",
    "\n",
    "numbers = [2, 3, 4, 5, 6, 7, 8, 9, 10]\n",
    "prime_numbers = list(filter(is_prime, numbers))\n",
    "print(\"Prime numbers:\", prime_numbers)\n"
   ]
  },
  {
   "cell_type": "code",
   "execution_count": 8,
   "id": "88f6f28a-d732-41fe-9d0a-366cb7ba84a5",
   "metadata": {},
   "outputs": [
    {
     "name": "stdout",
     "output_type": "stream",
     "text": [
      "Uppercase Strings: ['HELLO', 'WORLD', 'PYTHON', 'IS', 'AWESOME']\n"
     ]
    }
   ],
   "source": [
    "#5\n",
    "strings = [\"hello\", \"world\", \"python\", \"is\", \"awesome\"]\n",
    "uppercase_strings = list(map(str.upper, strings))\n",
    "print(\"Uppercase Strings:\", uppercase_strings)"
   ]
  }
 ],
 "metadata": {
  "kernelspec": {
   "display_name": "Python 3 (ipykernel)",
   "language": "python",
   "name": "python3"
  },
  "language_info": {
   "codemirror_mode": {
    "name": "ipython",
    "version": 3
   },
   "file_extension": ".py",
   "mimetype": "text/x-python",
   "name": "python",
   "nbconvert_exporter": "python",
   "pygments_lexer": "ipython3",
   "version": "3.12.7"
  }
 },
 "nbformat": 4,
 "nbformat_minor": 5
}
