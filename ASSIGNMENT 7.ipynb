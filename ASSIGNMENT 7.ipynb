{
 "cells": [
  {
   "cell_type": "code",
   "execution_count": 1,
   "id": "834134f7-4296-47fc-90a7-618d0a8708a2",
   "metadata": {},
   "outputs": [],
   "source": [
    "import numpy as np\n",
    "import pandas as pd\n"
   ]
  },
  {
   "cell_type": "code",
   "execution_count": 5,
   "id": "ac6de067-b392-4059-b2f5-9e59844e3a7e",
   "metadata": {},
   "outputs": [
    {
     "name": "stdout",
     "output_type": "stream",
     "text": [
      " 1:\n",
      " [[ 1  2  3  4  5]\n",
      " [ 6  7  8  9 10]]\n"
     ]
    }
   ],
   "source": [
    "#1\n",
    "arr1 = np.arange(1, 11).reshape(2, 5)\n",
    "print(\" 1:\\n\", arr1)"
   ]
  },
  {
   "cell_type": "code",
   "execution_count": 4,
   "id": "fc73adaf-6f36-46bb-84e5-74c8e8da19b9",
   "metadata": {},
   "outputs": [
    {
     "name": "stdout",
     "output_type": "stream",
     "text": [
      " 2:\n",
      " [ 6  7  8  9 10 11 12 13 14 15 16]\n"
     ]
    }
   ],
   "source": [
    "#2\n",
    "arr2 = np.arange(1, 21)\n",
    "extracted_elements = arr2[5:16]\n",
    "print(\" 2:\\n\", extracted_elements)"
   ]
  },
  {
   "cell_type": "code",
   "execution_count": 6,
   "id": "f2b5d017-5857-4c36-93a9-430fde5fd1b2",
   "metadata": {},
   "outputs": [
    {
     "name": "stdout",
     "output_type": "stream",
     "text": [
      " 3:\n",
      " apples     3\n",
      "bananas    2\n",
      "oranges    1\n",
      "pears      4\n",
      "dtype: int64\n"
     ]
    }
   ],
   "source": [
    "#3\n",
    "fruit_series = pd.Series({'apples': 3, 'bananas': 2, 'oranges': 1})\n",
    "fruit_series['pears'] = 4\n",
    "print(\" 3:\\n\", fruit_series)\n"
   ]
  },
  {
   "cell_type": "code",
   "execution_count": 7,
   "id": "1578ab56-119a-40d0-ae16-a86d4e13f9c0",
   "metadata": {},
   "outputs": [
    {
     "name": "stdout",
     "output_type": "stream",
     "text": [
      "4:\n",
      "       name  age gender\n",
      "0    Alice   25      F\n",
      "1      Bob   30      M\n",
      "2  Charlie   22      M\n",
      "3    David   45      M\n",
      "4      Eve   28      F\n",
      "5    Frank   35      M\n",
      "6    Grace   40      F\n",
      "7   Hannah   23      F\n",
      "8      Ian   31      M\n",
      "9     Jack   29      M\n"
     ]
    }
   ],
   "source": [
    "#4\n",
    "data = {\n",
    "    'name': ['Alice', 'Bob', 'Charlie', 'David', 'Eve', 'Frank', 'Grace', 'Hannah', 'Ian', 'Jack'],\n",
    "    'age': [25, 30, 22, 45, 28, 35, 40, 23, 31, 29],\n",
    "    'gender': ['F', 'M', 'M', 'M', 'F', 'M', 'F', 'F', 'M', 'M']\n",
    "}\n",
    "df = pd.DataFrame(data)\n",
    "print(\"4:\\n\", df)"
   ]
  },
  {
   "cell_type": "code",
   "execution_count": 9,
   "id": "55b01752-35c5-4abf-8658-fd1c689dab50",
   "metadata": {},
   "outputs": [
    {
     "name": "stdout",
     "output_type": "stream",
     "text": [
      "5:\n",
      "       name  age gender  occupation\n",
      "0    Alice   25      F  Programmer\n",
      "1      Bob   30      M     Manager\n",
      "2  Charlie   22      M     Analyst\n",
      "3    David   45      M  Programmer\n",
      "4      Eve   28      F     Manager\n",
      "5    Frank   35      M     Analyst\n",
      "6    Grace   40      F  Programmer\n",
      "7   Hannah   23      F     Manager\n",
      "8      Ian   31      M     Analyst\n",
      "9     Jack   29      M  Programmer\n"
     ]
    }
   ],
   "source": [
    "#5\n",
    "occupations = ['Programmer', 'Manager', 'Analyst', 'Programmer', 'Manager', 'Analyst', 'Programmer', 'Manager', 'Analyst', 'Programmer']\n",
    "df['occupation'] = occupations\n",
    "print(\"5:\\n\", df)"
   ]
  },
  {
   "cell_type": "code",
   "execution_count": 10,
   "id": "08b99611-2cba-4562-9964-3ce66baa4ead",
   "metadata": {},
   "outputs": [
    {
     "name": "stdout",
     "output_type": "stream",
     "text": [
      "6:\n",
      "     name  age gender  occupation\n",
      "1    Bob   30      M     Manager\n",
      "3  David   45      M  Programmer\n",
      "5  Frank   35      M     Analyst\n",
      "6  Grace   40      F  Programmer\n",
      "8    Ian   31      M     Analyst\n"
     ]
    }
   ],
   "source": [
    "#6\n",
    "age_filtered_df = df[df['age'] >= 30]\n",
    "print(\"6:\\n\", age_filtered_df)"
   ]
  },
  {
   "cell_type": "code",
   "execution_count": 11,
   "id": "dbb3347f-539d-45af-acf0-0c60b1c8c272",
   "metadata": {},
   "outputs": [
    {
     "name": "stdout",
     "output_type": "stream",
     "text": [
      "7:\n",
      "       name  age gender  occupation\n",
      "0    Alice   25      F  Programmer\n",
      "1      Bob   30      M     Manager\n",
      "2  Charlie   22      M     Analyst\n",
      "3    David   45      M  Programmer\n",
      "4      Eve   28      F     Manager\n",
      "5    Frank   35      M     Analyst\n",
      "6    Grace   40      F  Programmer\n",
      "7   Hannah   23      F     Manager\n",
      "8      Ian   31      M     Analyst\n",
      "9     Jack   29      M  Programmer\n"
     ]
    }
   ],
   "source": [
    "#7\n",
    "csv_filename = \"dataframe_output.csv\"\n",
    "df.to_csv(csv_filename, index=False)\n",
    "df_read = pd.read_csv(csv_filename)\n",
    "print(\"7:\\n\", df_read)\n"
   ]
  },
  {
   "cell_type": "code",
   "execution_count": null,
   "id": "4dd60b0f-3307-4213-b34a-f7cdf1f405b8",
   "metadata": {},
   "outputs": [],
   "source": []
  }
 ],
 "metadata": {
  "kernelspec": {
   "display_name": "Python 3 (ipykernel)",
   "language": "python",
   "name": "python3"
  },
  "language_info": {
   "codemirror_mode": {
    "name": "ipython",
    "version": 3
   },
   "file_extension": ".py",
   "mimetype": "text/x-python",
   "name": "python",
   "nbconvert_exporter": "python",
   "pygments_lexer": "ipython3",
   "version": "3.13.2"
  }
 },
 "nbformat": 4,
 "nbformat_minor": 5
}
