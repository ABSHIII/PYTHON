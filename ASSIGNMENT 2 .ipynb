{
 "cells": [
  {
   "cell_type": "markdown",
   "id": "6293a1b1-8f99-43a4-a312-7e287240702b",
   "metadata": {},
   "source": [
    "Topic :List Exercise"
   ]
  },
  {
   "cell_type": "code",
   "execution_count": 2,
   "id": "dfabeebc-a200-4bfe-99e5-192693d92962",
   "metadata": {},
   "outputs": [
    {
     "name": "stdout",
     "output_type": "stream",
     "text": [
      "Random list: [72, 43, 44, 66, 76]\n"
     ]
    }
   ],
   "source": [
    "# Q1\n",
    "import random\n",
    "random_numbers = [random.randint(1, 100) for _ in range(5)]\n",
    "print(\"Random list:\", random_numbers)"
   ]
  },
  {
   "cell_type": "code",
   "execution_count": 3,
   "id": "7d927d7f-bb5e-484a-a8ab-52a4b850c2a9",
   "metadata": {},
   "outputs": [
    {
     "name": "stdout",
     "output_type": "stream",
     "text": [
      "Updated list: [72, 43, 44, 66, 76, 101, 102, 103]\n"
     ]
    }
   ],
   "source": [
    "# Q2\n",
    "random_numbers.extend([101, 102, 103])\n",
    "print(\"Updated list:\", random_numbers)"
   ]
  },
  {
   "cell_type": "code",
   "execution_count": 4,
   "id": "649e3fcd-3104-469d-8f6d-baea83018c80",
   "metadata": {},
   "outputs": [
    {
     "name": "stdout",
     "output_type": "stream",
     "text": [
      "72\n",
      "43\n",
      "44\n",
      "66\n",
      "76\n",
      "101\n",
      "102\n",
      "103\n"
     ]
    }
   ],
   "source": [
    "for num in random_numbers:\n",
    "    print(num)"
   ]
  },
  {
   "cell_type": "markdown",
   "id": "75ce5d16-a858-480b-a999-4986b7bbf688",
   "metadata": {
    "jupyter": {
     "source_hidden": true
    }
   },
   "source": [
    "# Topic: Dictionary Exercise"
   ]
  },
  {
   "cell_type": "code",
   "execution_count": 5,
   "id": "15f63e52-7fb1-4fe6-9f36-d02fc562b9c2",
   "metadata": {},
   "outputs": [
    {
     "name": "stdout",
     "output_type": "stream",
     "text": [
      "Dictionary: {'name': 'John', 'age': 25, 'address': 'New York'}\n"
     ]
    }
   ],
   "source": [
    "# Q1\n",
    "person = {\"name\": \"John\", \"age\": 25, \"address\": \"New York\"}\n",
    "print(\"Dictionary:\", person)"
   ]
  },
  {
   "cell_type": "code",
   "execution_count": 6,
   "id": "d7a118ad-4218-4c57-b625-c62f1666a12e",
   "metadata": {},
   "outputs": [
    {
     "name": "stdout",
     "output_type": "stream",
     "text": [
      "Updated Dictionary: {'name': 'John', 'age': 25, 'address': 'New York', 'phone': '1234567890'}\n"
     ]
    }
   ],
   "source": [
    "# Q2\n",
    "person[\"phone\"] = \"1234567890\"\n",
    "print(\"Updated Dictionary:\", person)"
   ]
  },
  {
   "cell_type": "markdown",
   "id": "3158b071-72d9-40ee-8fce-adb7ab394895",
   "metadata": {
    "jupyter": {
     "source_hidden": true
    }
   },
   "source": [
    "# Topic: Set Exercise\n"
   ]
  },
  {
   "cell_type": "code",
   "execution_count": 7,
   "id": "b0364e8d-f082-4b0a-9b12-9748904f9e83",
   "metadata": {},
   "outputs": [
    {
     "name": "stdout",
     "output_type": "stream",
     "text": [
      "Set: {1, 2, 3, 4, 5}\n"
     ]
    }
   ],
   "source": [
    "# Q1\n",
    "number_set = {1, 2, 3, 4, 5}\n",
    "print(\"Set:\", number_set)\n"
   ]
  },
  {
   "cell_type": "code",
   "execution_count": 8,
   "id": "dc7cfb9d-e4fb-47fd-8801-c7f6b66a20c1",
   "metadata": {},
   "outputs": [
    {
     "name": "stdout",
     "output_type": "stream",
     "text": [
      "Updated Set: {1, 2, 3, 4, 5, 6}\n"
     ]
    }
   ],
   "source": [
    "# Q2\n",
    "number_set.add(6)\n",
    "print(\"Updated Set:\", number_set)"
   ]
  },
  {
   "cell_type": "code",
   "execution_count": 9,
   "id": "42af1ec9-5a70-402f-8816-af925d741a0b",
   "metadata": {},
   "outputs": [
    {
     "name": "stdout",
     "output_type": "stream",
     "text": [
      "Set after removal: {1, 2, 4, 5, 6}\n"
     ]
    }
   ],
   "source": [
    "# Q3\n",
    "number_set.discard(3)\n",
    "print(\"Set after removal:\", number_set)"
   ]
  },
  {
   "cell_type": "markdown",
   "id": "10adaf51-de13-476b-b526-9a4b34331816",
   "metadata": {
    "jupyter": {
     "source_hidden": true
    }
   },
   "source": [
    "# Topic: Tuple Exercise"
   ]
  },
  {
   "cell_type": "code",
   "execution_count": 10,
   "id": "85c95a29-41d4-4605-a402-cbc07cb084fc",
   "metadata": {},
   "outputs": [
    {
     "name": "stdout",
     "output_type": "stream",
     "text": [
      "Tuple: (1, 2, 3, 4)\n"
     ]
    }
   ],
   "source": [
    "# Q1\n",
    "tuple_values = (1, 2, 3, 4)\n",
    "print(\"Tuple:\", tuple_values)"
   ]
  },
  {
   "cell_type": "code",
   "execution_count": 11,
   "id": "79b45664-7fa6-4e67-bcd7-d1f1af00b722",
   "metadata": {},
   "outputs": [
    {
     "name": "stdout",
     "output_type": "stream",
     "text": [
      "Length of Tuple: 4\n"
     ]
    }
   ],
   "source": [
    "# Q2\n",
    "print(\"Length of Tuple:\", len(tuple_values))\n"
   ]
  },
  {
   "cell_type": "code",
   "execution_count": null,
   "id": "1effbcb1-093a-4ea0-85ef-6932c628bd62",
   "metadata": {},
   "outputs": [],
   "source": []
  },
  {
   "cell_type": "code",
   "execution_count": null,
   "id": "5d15da3e-9dce-41ff-a016-3522a61efff6",
   "metadata": {},
   "outputs": [],
   "source": []
  }
 ],
 "metadata": {
  "kernelspec": {
   "display_name": "Python 3 (ipykernel)",
   "language": "python",
   "name": "python3"
  },
  "language_info": {
   "codemirror_mode": {
    "name": "ipython",
    "version": 3
   },
   "file_extension": ".py",
   "mimetype": "text/x-python",
   "name": "python",
   "nbconvert_exporter": "python",
   "pygments_lexer": "ipython3",
   "version": "3.12.7"
  }
 },
 "nbformat": 4,
 "nbformat_minor": 5
}
